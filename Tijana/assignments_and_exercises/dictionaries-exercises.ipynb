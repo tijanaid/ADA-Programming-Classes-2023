{
 "cells": [
  {
   "cell_type": "markdown",
   "metadata": {
    "pycharm": {
     "name": "#%% md\n"
    }
   },
   "source": [
    "# Dictionaries\n",
    "The notebook created after the *dictionaries* module.\n",
    "\n",
    "Demonstrates working with dictionaries in Python."
   ]
  },
  {
   "cell_type": "markdown",
   "metadata": {
    "pycharm": {
     "name": "#%% md\n"
    }
   },
   "source": [
    "From: https://qr.ae/TWCAvj:\n",
    "\n",
    "Python uses dictionaries all over the place:\n",
    "- the variables and functions in a module - stored in a dictionary (can be shown using `globals()`)\n",
    "- the local variables in a function - stored in a dictionary (can be shown using `locals()`; see *functions.py*, *10-functions.ipynb*)\n",
    "- the implementation of a function - a dictionary\n",
    "- a class is a dictionary\n",
    "- an instance of a class is another dictionary\n",
    "- the modules your program has imported - you guessed it - another dictionary\n",
    "- even Python set objects are implemented as modified dictionaries\n",
    "\n",
    "To paraphrase Tim Peter's 'Zen of Python': \"dictionaries are great - let's do more of them\".\n",
    "Read more at https://qr.ae/TWCAvj."
   ]
  },
  {
   "cell_type": "markdown",
   "metadata": {
    "pycharm": {
     "name": "#%% md\n"
    },
    "tags": []
   },
   "source": [
    "## Creating and using dictionaries"
   ]
  },
  {
   "cell_type": "code",
   "execution_count": null,
   "metadata": {
    "tags": []
   },
   "outputs": [],
   "source": [
    "city_population = {\"New York City\": 8_550_405, \n",
    "                   \"Los Angeles\": 3_971_883, \n",
    "                   \"Toronto\": 2_731_571, \n",
    "                   \"Chicago\": 2_720_546, \n",
    "                   \"Houston\": 2_296_224, \n",
    "                   \"Montreal\": 1_704_694, \n",
    "                   \"Calgary\": 1_239_220, \n",
    "                   \"Vancouver\": 631_486, \n",
    "                   \"Boston\": 667_137}"
   ]
  },
  {
   "cell_type": "code",
   "execution_count": null,
   "metadata": {
    "tags": []
   },
   "outputs": [],
   "source": [
    "city_population[\"Belgrade\"] = 3000000"
   ]
  },
  {
   "cell_type": "code",
   "execution_count": null,
   "metadata": {
    "tags": []
   },
   "outputs": [],
   "source": [
    "city_population"
   ]
  },
  {
   "cell_type": "code",
   "execution_count": null,
   "metadata": {
    "tags": []
   },
   "outputs": [],
   "source": [
    "en_de = {\"red\" : \"rot\", \"green\" : \"grün\", \"blue\" : \"blau\", \"yellow\": \"gelb\"}"
   ]
  },
  {
   "cell_type": "code",
   "execution_count": null,
   "metadata": {
    "tags": []
   },
   "outputs": [],
   "source": [
    "de_sr = {\"rot\": \"crveno\", \"grün\": \"zeleno\", \"blau\": \"plavo\", \"gelb\": \"žuto\"}"
   ]
  },
  {
   "cell_type": "code",
   "execution_count": null,
   "metadata": {
    "tags": []
   },
   "outputs": [],
   "source": [
    "en_de = {\"red\" : \"rot\", \"green\" : \"grün\", \"blue\" : \"blau\", \"yellow\":\"gelb\"}\n",
    "de_sr = {\"rot\": \"crveno\", \"grün\": \"zeleno\", \"blau\": \"plavo\", \"gelb\": \"žuto\"}\n",
    "de_tr = {\"rot\": \"kırmızı\", \"grün\": \"yeşil\", \"blau\": \"mavi\", \"gelb\": \"sari\"}\n",
    "en_es = {\"red\" : \"rojo\", \"green\" : \"verde\", \"blue\" : \"azul\", \"yellow\":\"amarillo\"}\n"
   ]
  },
  {
   "cell_type": "code",
   "execution_count": null,
   "metadata": {
    "tags": []
   },
   "outputs": [],
   "source": [
    "lang_pair = input(\"Language pair, e.g., en_de: \")"
   ]
  },
  {
   "cell_type": "code",
   "execution_count": null,
   "metadata": {
    "tags": []
   },
   "outputs": [],
   "source": [
    "color_name = input(\"Color name to be translated: \")"
   ]
  },
  {
   "cell_type": "code",
   "execution_count": null,
   "metadata": {
    "tags": []
   },
   "outputs": [],
   "source": [
    "d = dictionaries[lang_pair]"
   ]
  },
  {
   "cell_type": "code",
   "execution_count": null,
   "metadata": {
    "tags": []
   },
   "outputs": [],
   "source": [
    "if color_name in d:\n",
    "    print(\"Translated color name is: \", d[color_name])"
   ]
  },
  {
   "cell_type": "code",
   "execution_count": null,
   "metadata": {
    "tags": []
   },
   "outputs": [],
   "source": [
    "de_it = {\"rot\": \"rosso\", \"gelb\": \"giallo\", \"blau\": \"blu\", \"grün\": \"verde\"}\n",
    "dictionaries[\"de_it\"] = de_it"
   ]
  },
  {
   "cell_type": "code",
   "execution_count": null,
   "metadata": {
    "tags": []
   },
   "outputs": [],
   "source": [
    "de_it.values()"
   ]
  },
  {
   "cell_type": "code",
   "execution_count": null,
   "metadata": {
    "tags": []
   },
   "outputs": [],
   "source": [
    "de_sr.keys()"
   ]
  },
  {
   "cell_type": "code",
   "execution_count": null,
   "metadata": {
    "tags": []
   },
   "outputs": [],
   "source": [
    "items_view = de_sr.items()"
   ]
  },
  {
   "cell_type": "code",
   "execution_count": null,
   "metadata": {
    "tags": []
   },
   "outputs": [],
   "source": [
    "items_view"
   ]
  },
  {
   "cell_type": "code",
   "execution_count": null,
   "metadata": {
    "tags": []
   },
   "outputs": [],
   "source": [
    "list(items_view)"
   ]
  },
  {
   "cell_type": "code",
   "execution_count": null,
   "metadata": {
    "tags": []
   },
   "outputs": [],
   "source": [
    "len(dictionaries)"
   ]
  },
  {
   "cell_type": "code",
   "execution_count": null,
   "metadata": {
    "tags": []
   },
   "outputs": [],
   "source": [
    "del dictionaries['en_es']"
   ]
  },
  {
   "cell_type": "code",
   "execution_count": null,
   "metadata": {
    "tags": []
   },
   "outputs": [],
   "source": [
    "'en_th' not in dictionaries"
   ]
  },
  {
   "cell_type": "code",
   "execution_count": null,
   "metadata": {
    "tags": []
   },
   "outputs": [],
   "source": [
    "print(dictionaries)"
   ]
  },
  {
   "cell_type": "code",
   "execution_count": null,
   "metadata": {},
   "outputs": [],
   "source": [
    "capitals = {\"Serbia\": \"Belgrade\", \"Austria\": \"Vienna\", \"Germany\": \"Berlin\", \"Netherlands\": \"Amsterdam\"}"
   ]
  },
  {
   "cell_type": "code",
   "execution_count": null,
   "metadata": {
    "tags": []
   },
   "outputs": [],
   "source": [
    "capital = capitals.pop(\"USA\", \"Washington, DC\")"
   ]
  },
  {
   "cell_type": "code",
   "execution_count": null,
   "metadata": {
    "tags": []
   },
   "outputs": [],
   "source": [
    "print(capitals.popitem())"
   ]
  },
  {
   "cell_type": "code",
   "execution_count": null,
   "metadata": {
    "tags": []
   },
   "outputs": [],
   "source": [
    "capitals"
   ]
  },
  {
   "cell_type": "code",
   "execution_count": null,
   "metadata": {},
   "outputs": [],
   "source": [
    "capitals = {\"Springfield\": \"Illinois\",\n",
    "            \"Augusta\": \"Maine\",\n",
    "            \"Boston\": \"Massachusetts\",\n",
    "            \"Lansing\": \"Michigan\",\n",
    "            \"Albany\": \"New York\",\n",
    "            \"Olympia\": \"Washington\",\n",
    "            \"Toronto\": \"Ontario\"}"
   ]
  },
  {
   "cell_type": "code",
   "execution_count": null,
   "metadata": {},
   "outputs": [],
   "source": [
    "locations = {\"Toronto\": \"Ontario\", \"Vancouver\": \"British Columbia\"}"
   ]
  },
  {
   "cell_type": "code",
   "execution_count": null,
   "metadata": {},
   "outputs": [],
   "source": [
    "proj_language = {\"proj1\": \"Python\", \"proj2\": \"Perl\", \"proj3\": \"Java\"}"
   ]
  },
  {
   "cell_type": "code",
   "execution_count": null,
   "metadata": {},
   "outputs": [],
   "source": [
    "words = {'house': 'Haus', 'cat': 'Katze'}"
   ]
  },
  {
   "cell_type": "code",
   "execution_count": null,
   "metadata": {},
   "outputs": [],
   "source": [
    "trainings = { \"course1\":{\"title\":\"Python Training Course for Beginners\",\n",
    "                         \"location\":\"Frankfurt\",\n",
    "                         \"trainer\":\"Steve G. Snake\"},\n",
    "              \"course2\":{\"title\":\"Intermediate Python Training\",\n",
    "                         \"location\":\"Berlin\",\n",
    "                         \"trainer\":\"Ella M. Charming\"},\n",
    "              \"course3\":{\"title\":\"Python Text Processing Course\",\n",
    "                         \"location\":\"München\",\n",
    "                         \"trainer\":\"Monica A. Snowdon\"}\n",
    "              }"
   ]
  },
  {
   "cell_type": "code",
   "execution_count": null,
   "metadata": {},
   "outputs": [],
   "source": [
    "knowledge = {\"Frank\": {\"Perl\"}, \"Monica\": {\"C\",\"C++\"}}\n",
    "knowledge2 = {\"Guido\": {\"Python\"}, \"Frank\": {\"Perl\", \"Python\"}}"
   ]
  },
  {
   "cell_type": "code",
   "execution_count": null,
   "metadata": {
    "tags": []
   },
   "outputs": [],
   "source": [
    "D = {\"list\": \"Liste\", \"dictionary\": \"Wörterbuch\", \"function\": \"Funktion\"}\n",
    "L = [(\"list\", \"Liste\"), (\"dictionary\", \"Wörterbuch\"), (\"function\", \"Funktion\")]"
   ]
  },
  {
   "cell_type": "code",
   "execution_count": null,
   "metadata": {},
   "outputs": [],
   "source": [
    "w = {\"house\": \"Haus\", \"cat\": \"\", \"red\": \"rot\"}"
   ]
  },
  {
   "cell_type": "code",
   "execution_count": null,
   "metadata": {},
   "outputs": [],
   "source": [
    "dishes = [\"pizza\", \"sauerkraut\", \"paella\", \"pljeskavica\"]\n",
    "countries = [\"Italy\", \"Germany\", \"Spain\", \"Serbia\"]"
   ]
  },
  {
   "cell_type": "markdown",
   "metadata": {
    "pycharm": {
     "name": "#%% md\n"
    }
   },
   "source": [
    "## Sorting dictionaries\n",
    "Define a simple function to demonstrate sorting dictionaries."
   ]
  },
  {
   "cell_type": "code",
   "execution_count": null,
   "metadata": {
    "collapsed": false,
    "jupyter": {
     "outputs_hidden": false
    },
    "pycharm": {
     "name": "#%%\n"
    }
   },
   "outputs": [],
   "source": [
    "def sort_dictionary(d, by):\n",
    "    \"\"\"Sorting a dictionary by keys or by values.\n",
    "    - using zip()\n",
    "    - using operator.itemgetter()\n",
    "    - using lambda\n",
    "    \"\"\"\n",
    "\n",
    "    # if by == 'k' or by == 'K':\n",
    "    #     return dict(sorted(zip(d.keys(), d.values())))\n",
    "    # elif by == 'v' or by == 'V':\n",
    "    #     return dict(sorted(zip(d.values(), d.keys())))\n",
    "    # else:\n",
    "    #     return None\n",
    "\n",
    "    # from operator import itemgetter\n",
    "    # if by == 'k' or by == 'K':\n",
    "    #     return dict(sorted(d.items(), key=itemgetter(0)))\n",
    "    # elif by == 'v' or by == 'V':\n",
    "    #     return dict(sorted(d.items(), key=itemgetter(1)))\n",
    "    # else:\n",
    "    #     return None\n",
    "\n",
    "    if by == 'k' or by == 'K':\n",
    "        return dict(sorted(d.items(), key=lambda item: item[0]))\n",
    "    elif by == 'v' or by == 'V':\n",
    "        return dict(sorted(d.items(), key=lambda item: item[1]))\n",
    "    else:\n",
    "        return None"
   ]
  },
  {
   "cell_type": "code",
   "execution_count": null,
   "metadata": {
    "collapsed": false,
    "jupyter": {
     "outputs_hidden": false
    },
    "pycharm": {
     "name": "#%%\n"
    }
   },
   "outputs": [],
   "source": [
    "def demonstrate_dict_sorting():\n",
    "    \"\"\"Demonstrate sorting a dictionary.\n",
    "    \"\"\"\n",
    "\n",
    "    songs = {3: 'The Long and Winding Road', 1: 'Oh, Darling', 2: 'The Fool on the Hill'}\n",
    "    print(sort_dictionary(songs, by='k'))\n",
    "    print(sort_dictionary(songs, by=12))"
   ]
  },
  {
   "cell_type": "code",
   "execution_count": null,
   "metadata": {
    "collapsed": false,
    "jupyter": {
     "outputs_hidden": false
    },
    "pycharm": {
     "name": "#%%\n"
    }
   },
   "outputs": [],
   "source": [
    "demonstrate_dict_sorting()"
   ]
  },
  {
   "cell_type": "markdown",
   "metadata": {
    "pycharm": {
     "name": "#%% md\n"
    },
    "tags": []
   },
   "source": [
    "# Excercise 1\n",
    "\n",
    "Write a function dict_merge_sum that takes two dictionaries d1 and d2 as parameters. The values of both dictionaries are numerical. The function should return the merged sum dictionary m of those dictionaries. If a key k is both in d1 and d2, the corresponding values will be added and included in the dictionary m. If k is only contained in one of the dictionaries, the k and the corresponding value will be included in m"
   ]
  },
  {
   "cell_type": "markdown",
   "metadata": {
    "pycharm": {
     "name": "#%% md\n"
    },
    "tags": []
   },
   "source": [
    "# Excercise 2\n",
    "\n",
    "supermarket = { \"milk\": {\"quantity\": 20, \"price\": 1.19},\n",
    "               \"biscuits\":  {\"quantity\": 32, \"price\": 1.45},\n",
    "               \"butter\":  {\"quantity\": 20, \"price\": 2.29},\n",
    "               \"cheese\":  {\"quantity\": 15, \"price\": 1.90},\n",
    "               \"bread\":  {\"quantity\": 15, \"price\": 2.59},\n",
    "               \"cookies\":  {\"quantity\": 20, \"price\": 4.99},\n",
    "               \"yogurt\": {\"quantity\": 18, \"price\": 3.65},\n",
    "               \"apples\":  {\"quantity\": 35, \"price\": 3.15},\n",
    "               \"oranges\":  {\"quantity\": 40, \"price\": 0.99},\n",
    "               \"bananas\": {\"quantity\": 23, \"price\": 1.29}}\n",
    "\n",
    "To be ready for an imminent crisis you decide to buy everything. This isn't particularly social behavior, but for the sake of the task, let's imagine it. The question is how much will you have to pay?"
   ]
  },
  {
   "cell_type": "markdown",
   "metadata": {
    "pycharm": {
     "name": "#%% md\n"
    },
    "tags": []
   },
   "source": [
    "# Excercise 3\n",
    "\n",
    "Create a virtual supermarket. For every article there is a price per article and a quantity, i.e., the stock. (Hint: you can use the one from the previous exercise!)\n",
    "\n",
    "Create shopping lists for customers. The shopping lists contain articles plus the quantity.\n",
    "\n",
    "The customers fill their carts, one after the other. Check if enough goods are available! Create a receipt for each customer."
   ]
  }
 ],
 "metadata": {
  "kernelspec": {
   "display_name": "Python 3 (ipykernel)",
   "language": "python",
   "name": "python3"
  },
  "language_info": {
   "codemirror_mode": {
    "name": "ipython",
    "version": 3
   },
   "file_extension": ".py",
   "mimetype": "text/x-python",
   "name": "python",
   "nbconvert_exporter": "python",
   "pygments_lexer": "ipython3",
   "version": "3.11.2"
  }
 },
 "nbformat": 4,
 "nbformat_minor": 4
}
