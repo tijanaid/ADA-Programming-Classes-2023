{
 "cells": [
  {
   "cell_type": "markdown",
   "metadata": {
    "pycharm": {
     "name": "#%% md\n"
    },
    "tags": []
   },
   "source": [
    "# Excercise 1\n",
    "\n",
    "Write a program that finds all positive integer numbers $a, b \\leq 25$ such that $a^2 + b^2$ is a square of a positive integer number."
   ]
  },
  {
   "cell_type": "markdown",
   "metadata": {
    "pycharm": {
     "name": "#%% md\n"
    },
    "tags": []
   },
   "source": [
    "# Excercise 2\n",
    "\n",
    "Write a program that implements a shopping list for a supermarket and a cart list. Initially, the cart is empty. As items from the shopping list are bought one after the other, they are removed from the shopping list and added to the cart. In each step print both lists, until the shopping list is exhausted."
   ]
  },
  {
   "cell_type": "markdown",
   "metadata": {
    "pycharm": {
     "name": "#%% md\n"
    },
    "tags": []
   },
   "source": [
    "# Excercise 3\n",
    "\n",
    "Having a list of numbers, write a program that prints only list elements which are $\\leq 5$.\n",
    "\n",
    "Extra 1: Instead of printing, create a new list that contain only list elements which are $\\leq 5$.\n",
    "\n",
    "Extra 2: Do it in one line."
   ]
  },
  {
   "cell_type": "markdown",
   "metadata": {
    "pycharm": {
     "name": "#%% md\n"
    },
    "tags": []
   },
   "source": [
    "# Excercise 4\n",
    "\n",
    "Having two lists of different sizes, write a program that prints only elements that belong to both lists.\n",
    "\n",
    "Extra 1: Eliminate repetitions of elements in the resulting intersection list.\n",
    "\n",
    "Extra 2: Do it all in one line."
   ]
  },
  {
   "cell_type": "code",
   "execution_count": null,
   "metadata": {},
   "outputs": [],
   "source": []
  }
 ],
 "metadata": {
  "kernelspec": {
   "display_name": "Python 3 (ipykernel)",
   "language": "python",
   "name": "python3"
  },
  "language_info": {
   "codemirror_mode": {
    "name": "ipython",
    "version": 3
   },
   "file_extension": ".py",
   "mimetype": "text/x-python",
   "name": "python",
   "nbconvert_exporter": "python",
   "pygments_lexer": "ipython3",
   "version": "3.11.2"
  }
 },
 "nbformat": 4,
 "nbformat_minor": 4
}
