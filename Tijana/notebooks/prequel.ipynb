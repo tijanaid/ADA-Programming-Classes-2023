{
 "cells": [
  {
   "cell_type": "markdown",
   "id": "f9250bc2-002e-45f9-8109-9667265e240e",
   "metadata": {},
   "source": [
    "# George Harrison"
   ]
  },
  {
   "cell_type": "markdown",
   "id": "46ea00e0-1c4e-4a47-a0df-2e48f7e1a8c5",
   "metadata": {},
   "source": [
    "Nicknamed *the quiet* Beatle. Also, he was the **youngest** Beatle."
   ]
  },
  {
   "cell_type": "markdown",
   "id": "edf50319-ed9a-4939-b933-86f36fde3ce6",
   "metadata": {},
   "source": [
    "![George](https://guitar.com/wp-content/uploads/2022/07/george-harrison-with-rocky@2000x1500-1200x900.jpg)"
   ]
  },
  {
   "cell_type": "markdown",
   "id": "20c0fb44-93cb-4c89-aa80-4592fd380e14",
   "metadata": {},
   "source": [
    ">#### If you don't know where you're going, any road'll take you there.\n",
    " <i>George Harrison</i>"
   ]
  },
  {
   "cell_type": "markdown",
   "id": "e9ac0072-1234-48d8-b672-d59ce0971d42",
   "metadata": {},
   "source": [
    "![The Beatles](https://variety.com/wp-content/uploads/2021/11/The-Beattles-Get-Back-Documentary-Peter-Jackson.jpg?w=681&h=383&crop=1)"
   ]
  },
  {
   "cell_type": "markdown",
   "id": "d0953ca7-c003-4a7b-93ba-8056041e97f0",
   "metadata": {},
   "source": [
    "[Official Website](https://www.georgeharrison.com/)<br>\n",
    "[Something (Live from Madison Square Garden, New York, U.S.A, 1971 / 2009 Remaster)](https://www.youtube.com/watch?v=yiqtK4IhM4c)"
   ]
  }
 ],
 "metadata": {
  "kernelspec": {
   "display_name": "Python 3 (ipykernel)",
   "language": "python",
   "name": "python3"
  },
  "language_info": {
   "codemirror_mode": {
    "name": "ipython",
    "version": 3
   },
   "file_extension": ".py",
   "mimetype": "text/x-python",
   "name": "python",
   "nbconvert_exporter": "python",
   "pygments_lexer": "ipython3",
   "version": "3.10.0"
  }
 },
 "nbformat": 4,
 "nbformat_minor": 5
}
